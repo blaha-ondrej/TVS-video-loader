{
 "cells": [
  {
   "cell_type": "code",
   "execution_count": 2,
   "metadata": {},
   "outputs": [
    {
     "name": "stderr",
     "output_type": "stream",
     "text": [
      "/Users/ondrejblaha/Library/Python/3.9/lib/python/site-packages/urllib3/__init__.py:35: NotOpenSSLWarning: urllib3 v2 only supports OpenSSL 1.1.1+, currently the 'ssl' module is compiled with 'LibreSSL 2.8.3'. See: https://github.com/urllib3/urllib3/issues/3020\n",
      "  warnings.warn(\n"
     ]
    }
   ],
   "source": [
    "import requests"
   ]
  },
  {
   "cell_type": "code",
   "execution_count": 32,
   "metadata": {},
   "outputs": [],
   "source": [
    "access_token = 'eyJhbGciOiJSUzI1NiIsImtpZCI6IjFDQUY4RTY2NzcyRDZEQzAyOEQ2NzI2RkQwMjYxNTgxNTcwRUZDMTkiLCJ0eXAiOiJKV1QiLCJ4NXQiOiJISy1PWm5jdGJjQW8xbkp2MENZVmdWY09fQmsifQ.eyJuYmYiOjE3MzM1OTkzOTEsImV4cCI6MTczMzYwMTE5MSwiaXNzIjoiaHR0cHM6Ly9pZGVudGl0eS54ZXJvLmNvbSIsImF1ZCI6Imh0dHBzOi8vaWRlbnRpdHkueGVyby5jb20vcmVzb3VyY2VzIiwiY2xpZW50X2lkIjoiRENGQkU4MjBFNTZDNDFFOEFDRDA1QURGNUYyRjI3ODAiLCJzdWIiOiI1MTE1NGEyMzMwNmE1ZmUwODRhYmVjNmU0YzY0NDJmNCIsImF1dGhfdGltZSI6MTczMzU5MDU0MiwieGVyb191c2VyaWQiOiI4YWJmZTAxYS01ZTZjLTRiYTAtYWU2ZS0zOTRiZTMwMTQyMjYiLCJnbG9iYWxfc2Vzc2lvbl9pZCI6ImEyYzIzMjhkYjE2NjQ3NDdhYTBkMTA2OWNiZmQzMTA3Iiwic2lkIjoiYTJjMjMyOGRiMTY2NDc0N2FhMGQxMDY5Y2JmZDMxMDciLCJqdGkiOiIwNTI0M0I0RjEyMjcyMDhGNEUyOTU1NDRFRDk0NzFCNiIsImF1dGhlbnRpY2F0aW9uX2V2ZW50X2lkIjoiZjkwZDJjMGEtYTg3Yy00YzZjLTgyZTAtM2Y0N2IwZTM2MGE1Iiwic2NvcGUiOlsiYWNjb3VudGluZy50cmFuc2FjdGlvbnMiLCJvZmZsaW5lX2FjY2VzcyJdLCJhbXIiOlsicHdkIl19.Yd3QhB2PyxfGupNNl2rlO6utb6o9FFAK5kVu-dAM7IAPD9UixvaMVcSImgJOTqPgFrk51dbXbPiwnjraBKG0MTZrJWCsXjpK4H0LMBORqJVQHd4o6Js0BXb4MBFQLlppTn6js13cFWM6CW_EDN23Qa8oJgfM9jJTh2RTnubiZCwIitZEvNBsYEb2bUlWI18NiXyIRla67JDJLBaIKTyOYjlLm7C1RvvbScMSRBz9ZDsKlx__eeqMd8wkVIFDbgSIipPZL1K8o09EEkYZfsAUJquJe_jGxYfeQoL2M-MG8GHpKooqGitrY1Fbqji_AfyZMKxd4NaxYTgOFQe2UzjuTg'"
   ]
  },
  {
   "cell_type": "code",
   "execution_count": 33,
   "metadata": {},
   "outputs": [],
   "source": [
    "# 6.2 Call the API\n",
    "def XeroRequests(access_token):\n",
    "    #old_refresh_token = open('C:/folder/refresh_token.txt', 'r').read()\n",
    "    #new_tokens = XeroRefreshToken(old_refresh_token)\n",
    "    new_tokens = ['eyJhbGciOiJSUzI1NiIsImtpZCI6IjFDQUY4RTY2NzcyRDZEQzAyOEQ2NzI2RkQwMjYxNTgxNTcwRUZDMTkiLCJ0eXAiOiJKV1QiLCJ4NXQiOiJISy1PWm5jdGJjQW8xbkp2MENZVmdWY09fQmsifQ.eyJuYmYiOjE3MzM1OTQ2ODIsImV4cCI6MTczMzU5NjQ4MiwiaXNzIjoiaHR0cHM6Ly9pZGVudGl0eS54ZXJvLmNvbSIsImF1ZCI6Imh0dHBzOi8vaWRlbnRpdHkueGVyby5jb20vcmVzb3VyY2VzIiwiY2xpZW50X2lkIjoiRENGQkU4MjBFNTZDNDFFOEFDRDA1QURGNUYyRjI3ODAiLCJzdWIiOiI1MTE1NGEyMzMwNmE1ZmUwODRhYmVjNmU0YzY0NDJmNCIsImF1dGhfdGltZSI6MTczMzU5MDU0MiwieGVyb191c2VyaWQiOiI4YWJmZTAxYS01ZTZjLTRiYTAtYWU2ZS0zOTRiZTMwMTQyMjYiLCJnbG9iYWxfc2Vzc2lvbl9pZCI6ImEyYzIzMjhkYjE2NjQ3NDdhYTBkMTA2OWNiZmQzMTA3Iiwic2lkIjoiYTJjMjMyOGRiMTY2NDc0N2FhMGQxMDY5Y2JmZDMxMDciLCJqdGkiOiIwNTI0M0I0RjEyMjcyMDhGNEUyOTU1NDRFRDk0NzFCNiIsImF1dGhlbnRpY2F0aW9uX2V2ZW50X2lkIjoiZjkwZDJjMGEtYTg3Yy00YzZjLTgyZTAtM2Y0N2IwZTM2MGE1Iiwic2NvcGUiOlsiYWNjb3VudGluZy50cmFuc2FjdGlvbnMiLCJvZmZsaW5lX2FjY2VzcyJdLCJhbXIiOlsicHdkIl19.IMo_uefe9-dj2l3gYSL0LYqpaA3DSLngu6Nvl3jR1e7E1p_d8Wb_RGOt2p0tzm1vQyQUaHqYqlHl8qYXMHNBGze4R9A3KAT-NC_YYHPX_l3UrfhtrSCufDVlyoqAcRbTsw68Tw8_s21Rvcts93foUilfnXBobw6v2CdQ3vtIaWFZ63mimPi0L4TeMMsP9nIInBl3eV0BZgctxv0KvBKTkGTjEG9r7zysxUFga_ydB7R-Bi3gkASBZ1OanLvqzRn1kwDex-iUAFAz0X85wVOS-PzWA50Zznv8TA3fsf2WTK3xrOSjO9CXE7rxL7Ulw3ZWnbeD1VAATgGiZsbIJF4erw', 'hYcAwdiuuNWJZkWIuBdTs-ZqJ4KMBXBXyDKkZc73qjo']\n",
    "    xero_tenant_id = '5d692624-5b67-4c18-b059-364d9b70c315'\n",
    "    \n",
    "    get_url = 'https://api.xero.com/api.xro/2.0/BankTransactions'\n",
    "    response = requests.get(get_url,\n",
    "                           headers = {\n",
    "                               'Authorization': 'Bearer ' + access_token,\n",
    "                               'Xero-tenant-id': xero_tenant_id,\n",
    "                               'Accept': 'application/json'\n",
    "                           })\n",
    "    json_response = response.json()\n",
    "    print(json_response)"
   ]
  },
  {
   "cell_type": "code",
   "execution_count": 19,
   "metadata": {},
   "outputs": [],
   "source": [
    "# 6.2 Call the API - connections\n",
    "def XeroRequestsConnections(access_token):\n",
    "    #old_refresh_token = open('C:/folder/refresh_token.txt', 'r').read()\n",
    "    #new_tokens = XeroRefreshToken(old_refresh_token)\n",
    "    new_tokens = ['eeyJhbGciOiJSUzI1NiIsImtpZCI6IjFDQUY4RTY2NzcyRDZEQzAyOEQ2NzI2RkQwMjYxNTgxNTcwRUZDMTkiLCJ0eXAiOiJKV1QiLCJ4NXQiOiJISy1PWm5jdGJjQW8xbkp2MENZVmdWY09fQmsifQ.eyJuYmYiOjE3MzM1OTY5MDEsImV4cCI6MTczMzU5ODcwMSwiaXNzIjoiaHR0cHM6Ly9pZGVudGl0eS54ZXJvLmNvbSIsImF1ZCI6Imh0dHBzOi8vaWRlbnRpdHkueGVyby5jb20vcmVzb3VyY2VzIiwiY2xpZW50X2lkIjoiRENGQkU4MjBFNTZDNDFFOEFDRDA1QURGNUYyRjI3ODAiLCJzdWIiOiI1MTE1NGEyMzMwNmE1ZmUwODRhYmVjNmU0YzY0NDJmNCIsImF1dGhfdGltZSI6MTczMzU5MDU0MiwieGVyb191c2VyaWQiOiI4YWJmZTAxYS01ZTZjLTRiYTAtYWU2ZS0zOTRiZTMwMTQyMjYiLCJnbG9iYWxfc2Vzc2lvbl9pZCI6ImEyYzIzMjhkYjE2NjQ3NDdhYTBkMTA2OWNiZmQzMTA3Iiwic2lkIjoiYTJjMjMyOGRiMTY2NDc0N2FhMGQxMDY5Y2JmZDMxMDciLCJqdGkiOiIwNTI0M0I0RjEyMjcyMDhGNEUyOTU1NDRFRDk0NzFCNiIsImF1dGhlbnRpY2F0aW9uX2V2ZW50X2lkIjoiZjkwZDJjMGEtYTg3Yy00YzZjLTgyZTAtM2Y0N2IwZTM2MGE1Iiwic2NvcGUiOlsiYWNjb3VudGluZy50cmFuc2FjdGlvbnMiLCJvZmZsaW5lX2FjY2VzcyJdLCJhbXIiOlsicHdkIl19.WpzejC0j_3uo3p4CKBigwTw7wbPHnhQ--TDORFccV0ybSYeAJibtHS13zIMy4q9pwpLNQLCuEkuGNbCmoDnHbFLYg-FxVb_tBziXZcJ6yNpqEQ6I-gXlF_59ILSyD_yybgBqdvnADFZNe42UIl4YoMQ5SkTNOsvZT9GM-7lhh94ID-hHx0G3dTlwC0-6we6KLpYzybBWwWxd43iQYs6GrZSIeF8h3jYAJVchJfBfFSSq10iuT0vL1jW88Q-QDIaVxC_WcjCHYT_V-RWESzIGFCr6ozfg5nggKiMyN7Cv7gxLQOL6IprXd3ECAFbXKdSRalVY11fGGIYZeQQIMQ9ZKQ']\n",
    "    #xero_tenant_id = '5d692624-5b67-4c18-b059-364d9b70c315'\n",
    "    \n",
    "    get_url = 'https://api.xero.com/connections'\n",
    "    response = requests.get(get_url,\n",
    "                           headers = {\n",
    "                               'Authorization': 'Bearer ' + access_token,\n",
    "                               'Content-Type': 'application/json'\n",
    "                           })\n",
    "    json_response = response.json()\n",
    "    print(json_response)\n",
    "    \n",
    "    for tenants in json_response:\n",
    "        json_dict = tenants\n",
    "    return json_dict['tenantId']"
   ]
  },
  {
   "cell_type": "code",
   "execution_count": 21,
   "metadata": {},
   "outputs": [
    {
     "name": "stdout",
     "output_type": "stream",
     "text": [
      "Bearer eyJhbGciOiJSUzI1NiIsImtpZCI6IjFDQUY4RTY2NzcyRDZEQzAyOEQ2NzI2RkQwMjYxNTgxNTcwRUZDMTkiLCJ0eXAiOiJKV1QiLCJ4NXQiOiJISy1PWm5jdGJjQW8xbkp2MENZVmdWY09fQmsifQ.eyJuYmYiOjE3MzM1OTY5MDEsImV4cCI6MTczMzU5ODcwMSwiaXNzIjoiaHR0cHM6Ly9pZGVudGl0eS54ZXJvLmNvbSIsImF1ZCI6Imh0dHBzOi8vaWRlbnRpdHkueGVyby5jb20vcmVzb3VyY2VzIiwiY2xpZW50X2lkIjoiRENGQkU4MjBFNTZDNDFFOEFDRDA1QURGNUYyRjI3ODAiLCJzdWIiOiI1MTE1NGEyMzMwNmE1ZmUwODRhYmVjNmU0YzY0NDJmNCIsImF1dGhfdGltZSI6MTczMzU5MDU0MiwieGVyb191c2VyaWQiOiI4YWJmZTAxYS01ZTZjLTRiYTAtYWU2ZS0zOTRiZTMwMTQyMjYiLCJnbG9iYWxfc2Vzc2lvbl9pZCI6ImEyYzIzMjhkYjE2NjQ3NDdhYTBkMTA2OWNiZmQzMTA3Iiwic2lkIjoiYTJjMjMyOGRiMTY2NDc0N2FhMGQxMDY5Y2JmZDMxMDciLCJqdGkiOiIwNTI0M0I0RjEyMjcyMDhGNEUyOTU1NDRFRDk0NzFCNiIsImF1dGhlbnRpY2F0aW9uX2V2ZW50X2lkIjoiZjkwZDJjMGEtYTg3Yy00YzZjLTgyZTAtM2Y0N2IwZTM2MGE1Iiwic2NvcGUiOlsiYWNjb3VudGluZy50cmFuc2FjdGlvbnMiLCJvZmZsaW5lX2FjY2VzcyJdLCJhbXIiOlsicHdkIl19.WpzejC0j_3uo3p4CKBigwTw7wbPHnhQ--TDORFccV0ybSYeAJibtHS13zIMy4q9pwpLNQLCuEkuGNbCmoDnHbFLYg-FxVb_tBziXZcJ6yNpqEQ6I-gXlF_59ILSyD_yybgBqdvnADFZNe42UIl4YoMQ5SkTNOsvZT9GM-7lhh94ID-hHx0G3dTlwC0-6we6KLpYzybBWwWxd43iQYs6GrZSIeF8h3jYAJVchJfBfFSSq10iuT0vL1jW88Q-QDIaVxC_WcjCHYT_V-RWESzIGFCr6ozfg5nggKiMyN7Cv7gxLQOL6IprXd3ECAFbXKdSRalVY11fGGIYZeQQIMQ9ZKQ\n"
     ]
    }
   ],
   "source": [
    "print('Bearer ' + access_token)"
   ]
  },
  {
   "cell_type": "code",
   "execution_count": 34,
   "metadata": {},
   "outputs": [
    {
     "name": "stdout",
     "output_type": "stream",
     "text": [
      "{'Id': '4fa82074-ea14-40a1-a25f-0c8c2f66c43e', 'Status': 'OK', 'ProviderName': 'Keboola connect', 'DateTimeUTC': '/Date(1733599436411)/', 'BankTransactions': [{'BankTransactionID': 'b9d7c42c-506a-4e56-a8a1-a41330580834', 'BankAccount': {'AccountID': '562555f2-8cde-4ce9-8203-0363922537a4', 'Code': '090', 'Name': 'Business Bank Account'}, 'Type': 'SPEND', 'Reference': 'Fee', 'IsReconciled': True, 'HasAttachments': False, 'Contact': {'ContactID': '43d1337e-4360-4589-9a76-1d0538c4ce6f', 'Name': 'Ridgeway Bank', 'Addresses': [], 'Phones': [], 'ContactGroups': [], 'ContactPersons': [], 'HasValidationErrors': False}, 'DateString': '2024-09-21T00:00:00', 'Date': '/Date(1726876800000+0000)/', 'Status': 'AUTHORISED', 'LineAmountTypes': 'Inclusive', 'LineItems': [], 'SubTotal': 15.0, 'TotalTax': 0.0, 'Total': 15.0, 'UpdatedDateUTC': '/Date(1229813455090+0000)/', 'CurrencyCode': 'USD'}, {'BankTransactionID': 'eed8d468-31c5-41c9-b34f-37b400be4c6f', 'BankAccount': {'AccountID': '562555f2-8cde-4ce9-8203-0363922537a4', 'Code': '090', 'Name': 'Business Bank Account'}, 'Type': 'SPEND', 'Reference': 'Eft', 'IsReconciled': True, 'HasAttachments': False, 'Contact': {'ContactID': 'cb906ad4-b1d7-44bf-b25a-4862c7059a43', 'Name': 'Office Supplies Company', 'Addresses': [], 'Phones': [], 'ContactGroups': [], 'ContactPersons': [], 'HasValidationErrors': False}, 'DateString': '2024-09-26T00:00:00', 'Date': '/Date(1727308800000+0000)/', 'Status': 'AUTHORISED', 'LineAmountTypes': 'Inclusive', 'LineItems': [], 'SubTotal': 21.71, 'TotalTax': 1.79, 'Total': 23.5, 'UpdatedDateUTC': '/Date(1229813458217+0000)/', 'CurrencyCode': 'USD'}, {'BankTransactionID': '5ecad915-ffb0-46b6-b349-2168caa40f66', 'BankAccount': {'AccountID': '562555f2-8cde-4ce9-8203-0363922537a4', 'Code': '090', 'Name': 'Business Bank Account'}, 'Type': 'SPEND', 'Reference': '', 'IsReconciled': True, 'HasAttachments': False, 'Contact': {'ContactID': 'f5cb9bf0-7aa2-473e-8115-87863dee95f3', 'Name': 'Espresso 31', 'Addresses': [], 'Phones': [], 'ContactGroups': [], 'ContactPersons': [], 'HasValidationErrors': False}, 'DateString': '2024-09-28T00:00:00', 'Date': '/Date(1727481600000+0000)/', 'Status': 'AUTHORISED', 'LineAmountTypes': 'Inclusive', 'LineItems': [], 'SubTotal': 16.0, 'TotalTax': 0.0, 'Total': 16.0, 'UpdatedDateUTC': '/Date(1229813608257+0000)/', 'CurrencyCode': 'USD'}, {'BankTransactionID': '84ff3067-c1ee-4413-b489-9d6b40b41ae2', 'BankAccount': {'AccountID': '562555f2-8cde-4ce9-8203-0363922537a4', 'Code': '090', 'Name': 'Business Bank Account'}, 'Type': 'SPEND', 'Reference': '', 'IsReconciled': True, 'HasAttachments': False, 'Contact': {'ContactID': 'be4cfc19-c55a-4f19-817b-4eee4ccf2c01', 'Name': 'Woolworths Market', 'Addresses': [], 'Phones': [], 'ContactGroups': [], 'ContactPersons': [], 'HasValidationErrors': False}, 'DateString': '2024-10-01T00:00:00', 'Date': '/Date(1727740800000+0000)/', 'Status': 'AUTHORISED', 'LineAmountTypes': 'Inclusive', 'LineItems': [], 'SubTotal': 60.23, 'TotalTax': 4.97, 'Total': 65.2, 'UpdatedDateUTC': '/Date(1229813610447+0000)/', 'CurrencyCode': 'USD'}, {'BankTransactionID': '8e2347a2-f51f-46b8-ba27-c2c25ed93a09', 'BankAccount': {'AccountID': '562555f2-8cde-4ce9-8203-0363922537a4', 'Code': '090', 'Name': 'Business Bank Account'}, 'Type': 'SPEND', 'Reference': 'Gift', 'IsReconciled': True, 'HasAttachments': False, 'Contact': {'ContactID': '162c177a-3391-4742-890f-f3ebfe0df1f3', 'Name': 'Brunswick Petals', 'Addresses': [], 'Phones': [], 'ContactGroups': [], 'ContactPersons': [], 'HasValidationErrors': False}, 'DateString': '2024-10-05T00:00:00', 'Date': '/Date(1728086400000+0000)/', 'Status': 'AUTHORISED', 'LineAmountTypes': 'Inclusive', 'LineItems': [], 'SubTotal': 46.19, 'TotalTax': 3.81, 'Total': 50.0, 'UpdatedDateUTC': '/Date(1229813612633+0000)/', 'CurrencyCode': 'USD'}, {'BankTransactionID': '56d679b7-611f-4c94-9760-60e7b019bc24', 'BankAccount': {'AccountID': '562555f2-8cde-4ce9-8203-0363922537a4', 'Code': '090', 'Name': 'Business Bank Account'}, 'Type': 'SPEND', 'Reference': '', 'IsReconciled': True, 'HasAttachments': False, 'Contact': {'ContactID': '16cf5671-54a8-4d4e-9a55-f2be8ec3dcf4', 'Name': 'Berry Brew', 'Addresses': [], 'Phones': [], 'ContactGroups': [], 'ContactPersons': [], 'HasValidationErrors': False}, 'DateString': '2024-10-08T00:00:00', 'Date': '/Date(1728345600000+0000)/', 'Status': 'AUTHORISED', 'LineAmountTypes': 'Inclusive', 'LineItems': [], 'SubTotal': 15.6, 'TotalTax': 0.0, 'Total': 15.6, 'UpdatedDateUTC': '/Date(1229813614273+0000)/', 'CurrencyCode': 'USD'}, {'BankTransactionID': 'dc615dfb-6450-490a-bd2f-0b5fd532aff2', 'BankAccount': {'AccountID': '562555f2-8cde-4ce9-8203-0363922537a4', 'Code': '090', 'Name': 'Business Bank Account'}, 'Type': 'SPEND', 'Reference': 'Chq 409', 'IsReconciled': True, 'HasAttachments': False, 'Contact': {'ContactID': 'b6c2d5e5-94f2-4df5-a7c2-f1de0bff034f', 'Name': 'Melrose Parking', 'Addresses': [], 'Phones': [], 'ContactGroups': [], 'ContactPersons': [], 'HasValidationErrors': False}, 'DateString': '2024-10-10T00:00:00', 'Date': '/Date(1728518400000+0000)/', 'Status': 'AUTHORISED', 'LineAmountTypes': 'Inclusive', 'LineItems': [], 'SubTotal': 137.18, 'TotalTax': 11.32, 'Total': 148.5, 'UpdatedDateUTC': '/Date(1229813622587+0000)/', 'CurrencyCode': 'USD'}, {'BankTransactionID': '9e716adc-32a1-4f81-90f2-1aaae24cfc74', 'BankAccount': {'AccountID': '562555f2-8cde-4ce9-8203-0363922537a4', 'Code': '090', 'Name': 'Business Bank Account'}, 'Type': 'SPEND', 'Reference': 'Chq 410', 'IsReconciled': False, 'HasAttachments': False, 'Contact': {'ContactID': 'b6c2d5e5-94f2-4df5-a7c2-f1de0bff034f', 'Name': 'Melrose Parking', 'Addresses': [], 'Phones': [], 'ContactGroups': [], 'ContactPersons': [], 'HasValidationErrors': False}, 'DateString': '2024-12-02T00:00:00', 'Date': '/Date(1733097600000+0000)/', 'Status': 'DELETED', 'LineAmountTypes': 'Inclusive', 'LineItems': [], 'SubTotal': 137.18, 'TotalTax': 11.32, 'Total': 148.5, 'UpdatedDateUTC': '/Date(1229817777813+0000)/', 'CurrencyCode': 'USD'}, {'BankTransactionID': '548fb3cf-972b-4bff-8559-0d787cde205a', 'BankAccount': {'AccountID': '562555f2-8cde-4ce9-8203-0363922537a4', 'Code': '090', 'Name': 'Business Bank Account'}, 'Type': 'SPEND', 'Reference': 'Fee', 'IsReconciled': True, 'HasAttachments': False, 'Contact': {'ContactID': '43d1337e-4360-4589-9a76-1d0538c4ce6f', 'Name': 'Ridgeway Bank', 'Addresses': [], 'Phones': [], 'ContactGroups': [], 'ContactPersons': [], 'HasValidationErrors': False}, 'DateString': '2024-10-22T00:00:00', 'Date': '/Date(1729555200000+0000)/', 'Status': 'AUTHORISED', 'LineAmountTypes': 'Inclusive', 'LineItems': [], 'SubTotal': 15.0, 'TotalTax': 0.0, 'Total': 15.0, 'UpdatedDateUTC': '/Date(1229820036867+0000)/', 'CurrencyCode': 'USD'}, {'BankTransactionID': 'fc5fefd3-a6aa-4a58-954e-4c9352a7b30a', 'BankAccount': {'AccountID': '562555f2-8cde-4ce9-8203-0363922537a4', 'Code': '090', 'Name': 'Business Bank Account'}, 'Type': 'SPEND', 'Reference': 'Fee', 'IsReconciled': False, 'HasAttachments': False, 'Contact': {'ContactID': '43d1337e-4360-4589-9a76-1d0538c4ce6f', 'Name': 'Ridgeway Bank', 'Addresses': [], 'Phones': [], 'ContactGroups': [], 'ContactPersons': [], 'HasValidationErrors': False}, 'DateString': '2024-11-26T00:00:00', 'Date': '/Date(1732579200000+0000)/', 'Status': 'DELETED', 'LineAmountTypes': 'Inclusive', 'LineItems': [], 'SubTotal': 15.0, 'TotalTax': 0.0, 'Total': 15.0, 'UpdatedDateUTC': '/Date(1229825658843+0000)/', 'CurrencyCode': 'USD'}, {'BankTransactionID': '86ea16b1-e901-409a-8177-4ec117208cc5', 'BankAccount': {'AccountID': '562555f2-8cde-4ce9-8203-0363922537a4', 'Code': '090', 'Name': 'Business Bank Account'}, 'Type': 'SPEND', 'Reference': '', 'IsReconciled': False, 'HasAttachments': False, 'Contact': {'ContactID': '406e9eba-9939-48de-a300-57853bb1a6a4', 'Name': 'Gable Print', 'Addresses': [], 'Phones': [], 'ContactGroups': [], 'ContactPersons': [], 'HasValidationErrors': False}, 'DateString': '2024-11-13T00:00:00', 'Date': '/Date(1731456000000+0000)/', 'Status': 'DELETED', 'LineAmountTypes': 'Inclusive', 'LineItems': [], 'SubTotal': 27.25, 'TotalTax': 2.25, 'Total': 29.5, 'UpdatedDateUTC': '/Date(1385071454290+0000)/', 'CurrencyCode': 'USD'}, {'BankTransactionID': '8b82178c-c0ad-4515-8f4a-e45a1b203617', 'BankAccount': {'AccountID': '562555f2-8cde-4ce9-8203-0363922537a4', 'Code': '090', 'Name': 'Business Bank Account'}, 'Type': 'SPEND', 'Reference': 'Eft', 'IsReconciled': False, 'HasAttachments': False, 'Contact': {'ContactID': 'be4cfc19-c55a-4f19-817b-4eee4ccf2c01', 'Name': 'Woolworths Market', 'Addresses': [], 'Phones': [], 'ContactGroups': [], 'ContactPersons': [], 'HasValidationErrors': False}, 'DateString': '2024-11-01T00:00:00', 'Date': '/Date(1730419200000+0000)/', 'Status': 'DELETED', 'LineAmountTypes': 'Inclusive', 'LineItems': [], 'SubTotal': 31.5, 'TotalTax': 2.6, 'Total': 34.1, 'UpdatedDateUTC': '/Date(1385071454667+0000)/', 'CurrencyCode': 'USD'}, {'BankTransactionID': '8ded5737-2bbf-4f3a-b437-20d598ea4bcf', 'BankAccount': {'AccountID': '562555f2-8cde-4ce9-8203-0363922537a4', 'Code': '090', 'Name': 'Business Bank Account'}, 'Type': 'SPEND', 'Reference': 'Chq 410', 'IsReconciled': False, 'HasAttachments': False, 'Contact': {'ContactID': 'b6c2d5e5-94f2-4df5-a7c2-f1de0bff034f', 'Name': 'Melrose Parking', 'Addresses': [], 'Phones': [], 'ContactGroups': [], 'ContactPersons': [], 'HasValidationErrors': False}, 'DateString': '2024-11-02T00:00:00', 'Date': '/Date(1730505600000+0000)/', 'Status': 'DELETED', 'LineAmountTypes': 'Inclusive', 'LineItems': [], 'SubTotal': 137.18, 'TotalTax': 11.32, 'Total': 148.5, 'UpdatedDateUTC': '/Date(1385071454947+0000)/', 'CurrencyCode': 'USD'}, {'BankTransactionID': 'a858954b-f646-41e4-a0fb-5823bb896c98', 'BankAccount': {'AccountID': '562555f2-8cde-4ce9-8203-0363922537a4', 'Code': '090', 'Name': 'Business Bank Account'}, 'Type': 'SPEND', 'Reference': 'Eft', 'IsReconciled': False, 'HasAttachments': False, 'Contact': {'ContactID': 'cb906ad4-b1d7-44bf-b25a-4862c7059a43', 'Name': 'Office Supplies Company', 'Addresses': [], 'Phones': [], 'ContactGroups': [], 'ContactPersons': [], 'HasValidationErrors': False}, 'DateString': '2024-11-04T00:00:00', 'Date': '/Date(1730678400000+0000)/', 'Status': 'DELETED', 'LineAmountTypes': 'Inclusive', 'LineItems': [], 'SubTotal': 45.45, 'TotalTax': 3.75, 'Total': 49.2, 'UpdatedDateUTC': '/Date(1385071455010+0000)/', 'CurrencyCode': 'USD'}, {'BankTransactionID': '4ec15cf0-1ee8-46ce-9cd9-34ba80511299', 'BankAccount': {'AccountID': '562555f2-8cde-4ce9-8203-0363922537a4', 'Code': '090', 'Name': 'Business Bank Account'}, 'Type': 'SPEND', 'Reference': '', 'IsReconciled': False, 'HasAttachments': False, 'Contact': {'ContactID': '16cf5671-54a8-4d4e-9a55-f2be8ec3dcf4', 'Name': 'Berry Brew', 'Addresses': [], 'Phones': [], 'ContactGroups': [], 'ContactPersons': [], 'HasValidationErrors': False}, 'DateString': '2024-11-10T00:00:00', 'Date': '/Date(1731196800000+0000)/', 'Status': 'DELETED', 'LineAmountTypes': 'Inclusive', 'LineItems': [], 'SubTotal': 22.0, 'TotalTax': 0.0, 'Total': 22.0, 'UpdatedDateUTC': '/Date(1385071455087+0000)/', 'CurrencyCode': 'USD'}, {'BankTransactionID': 'ef8942cc-a47c-489f-b4c8-fc987fd3d356', 'BankAccount': {'AccountID': '562555f2-8cde-4ce9-8203-0363922537a4', 'Code': '090', 'Name': 'Business Bank Account'}, 'Type': 'SPEND', 'Reference': 'Chq 411', 'IsReconciled': False, 'HasAttachments': False, 'Contact': {'ContactID': '2e68080d-b3bd-4051-b33c-9f031550b958', 'Name': '24 Locks', 'Addresses': [], 'Phones': [], 'ContactGroups': [], 'ContactPersons': [], 'HasValidationErrors': False}, 'DateString': '2024-11-10T00:00:00', 'Date': '/Date(1731196800000+0000)/', 'Status': 'DELETED', 'LineAmountTypes': 'Inclusive', 'LineItems': [], 'SubTotal': 64.2, 'TotalTax': 5.3, 'Total': 69.5, 'UpdatedDateUTC': '/Date(1385071455150+0000)/', 'CurrencyCode': 'USD'}, {'BankTransactionID': '8997a5fe-c07d-49cc-8936-cb338f9f0ec7', 'BankAccount': {'AccountID': '562555f2-8cde-4ce9-8203-0363922537a4', 'Code': '090', 'Name': 'Business Bank Account'}, 'Type': 'SPEND', 'IsReconciled': True, 'HasAttachments': False, 'Contact': {'ContactID': 'be4cfc19-c55a-4f19-817b-4eee4ccf2c01', 'Name': 'Woolworths Market', 'Addresses': [], 'Phones': [], 'ContactGroups': [], 'ContactPersons': [], 'HasValidationErrors': False}, 'DateString': '2024-11-01T00:00:00', 'Date': '/Date(1730419200000+0000)/', 'Status': 'AUTHORISED', 'LineAmountTypes': 'Inclusive', 'LineItems': [], 'SubTotal': 31.5, 'TotalTax': 2.6, 'Total': 34.1, 'UpdatedDateUTC': '/Date(1385071767640+0000)/', 'CurrencyCode': 'USD'}, {'BankTransactionID': '190f2da9-f696-4612-9e52-35a277674feb', 'BankAccount': {'AccountID': '562555f2-8cde-4ce9-8203-0363922537a4', 'Code': '090', 'Name': 'Business Bank Account'}, 'Type': 'SPEND', 'IsReconciled': True, 'HasAttachments': False, 'Contact': {'ContactID': 'b6c2d5e5-94f2-4df5-a7c2-f1de0bff034f', 'Name': 'Melrose Parking', 'Addresses': [], 'Phones': [], 'ContactGroups': [], 'ContactPersons': [], 'HasValidationErrors': False}, 'DateString': '2024-11-02T00:00:00', 'Date': '/Date(1730505600000+0000)/', 'Status': 'AUTHORISED', 'LineAmountTypes': 'Inclusive', 'LineItems': [], 'SubTotal': 137.18, 'TotalTax': 11.32, 'Total': 148.5, 'UpdatedDateUTC': '/Date(1385071840913+0000)/', 'CurrencyCode': 'USD'}, {'BankTransactionID': 'aabb3aeb-6961-4c0a-9ffc-6d43e5283762', 'BankAccount': {'AccountID': '562555f2-8cde-4ce9-8203-0363922537a4', 'Code': '090', 'Name': 'Business Bank Account'}, 'Type': 'SPEND', 'IsReconciled': True, 'HasAttachments': False, 'Contact': {'ContactID': 'cb906ad4-b1d7-44bf-b25a-4862c7059a43', 'Name': 'Office Supplies Company', 'Addresses': [], 'Phones': [], 'ContactGroups': [], 'ContactPersons': [], 'HasValidationErrors': False}, 'DateString': '2024-11-04T00:00:00', 'Date': '/Date(1730678400000+0000)/', 'Status': 'AUTHORISED', 'LineAmountTypes': 'Inclusive', 'LineItems': [], 'SubTotal': 45.45, 'TotalTax': 3.75, 'Total': 49.2, 'UpdatedDateUTC': '/Date(1385071843253+0000)/', 'CurrencyCode': 'USD'}, {'BankTransactionID': '641ec07c-5d5a-4fe8-b7a3-d985854eed9f', 'BankAccount': {'AccountID': '562555f2-8cde-4ce9-8203-0363922537a4', 'Code': '090', 'Name': 'Business Bank Account'}, 'Type': 'SPEND', 'IsReconciled': True, 'HasAttachments': False, 'Contact': {'ContactID': '2e68080d-b3bd-4051-b33c-9f031550b958', 'Name': '24 Locks', 'Addresses': [], 'Phones': [], 'ContactGroups': [], 'ContactPersons': [], 'HasValidationErrors': False}, 'DateString': '2024-11-10T00:00:00', 'Date': '/Date(1731196800000+0000)/', 'Status': 'AUTHORISED', 'LineAmountTypes': 'Inclusive', 'LineItems': [], 'SubTotal': 64.2, 'TotalTax': 5.3, 'Total': 69.5, 'UpdatedDateUTC': '/Date(1385072132607+0000)/', 'CurrencyCode': 'USD'}, {'BankTransactionID': 'a3984455-2591-4cc0-801c-c8ac98dfc409', 'BankAccount': {'AccountID': '562555f2-8cde-4ce9-8203-0363922537a4', 'Code': '090', 'Name': 'Business Bank Account'}, 'Type': 'SPEND', 'IsReconciled': True, 'HasAttachments': False, 'Contact': {'ContactID': '16cf5671-54a8-4d4e-9a55-f2be8ec3dcf4', 'Name': 'Berry Brew', 'Addresses': [], 'Phones': [], 'ContactGroups': [], 'ContactPersons': [], 'HasValidationErrors': False}, 'DateString': '2024-11-10T00:00:00', 'Date': '/Date(1731196800000+0000)/', 'Status': 'AUTHORISED', 'LineAmountTypes': 'Inclusive', 'LineItems': [], 'SubTotal': 22.0, 'TotalTax': 0.0, 'Total': 22.0, 'UpdatedDateUTC': '/Date(1385072147723+0000)/', 'CurrencyCode': 'USD'}, {'BankTransactionID': '823f008c-64e5-4285-b470-7ecf1ab83cd4', 'BankAccount': {'AccountID': '562555f2-8cde-4ce9-8203-0363922537a4', 'Code': '090', 'Name': 'Business Bank Account'}, 'Type': 'SPEND', 'IsReconciled': True, 'HasAttachments': False, 'Contact': {'ContactID': '940f1da6-6d14-46e5-a692-77de93732f96', 'Name': 'Orlena Greenville', 'Addresses': [], 'Phones': [], 'ContactGroups': [], 'ContactPersons': [], 'HasValidationErrors': False}, 'DateString': '2024-11-01T00:00:00', 'Date': '/Date(1730419200000+0000)/', 'Status': 'AUTHORISED', 'LineAmountTypes': 'Inclusive', 'LineItems': [], 'SubTotal': 27.25, 'TotalTax': 2.25, 'Total': 29.5, 'UpdatedDateUTC': '/Date(1385072864543+0000)/', 'CurrencyCode': 'USD'}]}\n"
     ]
    }
   ],
   "source": [
    "XeroRequests(access_token)"
   ]
  },
  {
   "cell_type": "markdown",
   "metadata": {},
   "source": []
  }
 ],
 "metadata": {
  "kernelspec": {
   "display_name": "Python 3",
   "language": "python",
   "name": "python3"
  },
  "language_info": {
   "codemirror_mode": {
    "name": "ipython",
    "version": 3
   },
   "file_extension": ".py",
   "mimetype": "text/x-python",
   "name": "python",
   "nbconvert_exporter": "python",
   "pygments_lexer": "ipython3",
   "version": "3.9.6"
  }
 },
 "nbformat": 4,
 "nbformat_minor": 2
}
